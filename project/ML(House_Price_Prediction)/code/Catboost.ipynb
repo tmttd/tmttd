{
 "cells": [
  {
   "cell_type": "code",
   "execution_count": 541,
   "metadata": {},
   "outputs": [
    {
     "name": "stdout",
     "output_type": "stream",
     "text": [
      "Requirement already satisfied: eli5==0.13.0 in /opt/conda/lib/python3.10/site-packages (0.13.0)\n",
      "Requirement already satisfied: attrs>17.1.0 in /opt/conda/lib/python3.10/site-packages (from eli5==0.13.0) (23.1.0)\n",
      "Requirement already satisfied: jinja2>=3.0.0 in /opt/conda/lib/python3.10/site-packages (from eli5==0.13.0) (3.1.2)\n",
      "Requirement already satisfied: numpy>=1.9.0 in /opt/conda/lib/python3.10/site-packages (from eli5==0.13.0) (1.23.5)\n",
      "Requirement already satisfied: scipy in /opt/conda/lib/python3.10/site-packages (from eli5==0.13.0) (1.11.3)\n",
      "Requirement already satisfied: six in /opt/conda/lib/python3.10/site-packages (from eli5==0.13.0) (1.16.0)\n",
      "Requirement already satisfied: scikit-learn>=0.20 in /opt/conda/lib/python3.10/site-packages (from eli5==0.13.0) (1.2.2)\n",
      "Requirement already satisfied: graphviz in /opt/conda/lib/python3.10/site-packages (from eli5==0.13.0) (0.20.1)\n",
      "Requirement already satisfied: tabulate>=0.7.7 in /opt/conda/lib/python3.10/site-packages (from eli5==0.13.0) (0.9.0)\n",
      "Requirement already satisfied: MarkupSafe>=2.0 in /opt/conda/lib/python3.10/site-packages (from jinja2>=3.0.0->eli5==0.13.0) (2.1.1)\n",
      "Requirement already satisfied: joblib>=1.1.1 in /opt/conda/lib/python3.10/site-packages (from scikit-learn>=0.20->eli5==0.13.0) (1.3.2)\n",
      "Requirement already satisfied: threadpoolctl>=2.0.0 in /opt/conda/lib/python3.10/site-packages (from scikit-learn>=0.20->eli5==0.13.0) (3.2.0)\n",
      "\u001b[33mWARNING: Running pip as the 'root' user can result in broken permissions and conflicting behaviour with the system package manager. It is recommended to use a virtual environment instead: https://pip.pypa.io/warnings/venv\u001b[0m\u001b[33m\n",
      "\u001b[0mE: Could not get lock /var/lib/dpkg/lock-frontend. It is held by process 402791 (apt)\n",
      "N: Be aware that removing the lock file is not a solution and may break your system.\n",
      "E: Unable to acquire the dpkg frontend lock (/var/lib/dpkg/lock-frontend), is another process using it?\n"
     ]
    }
   ],
   "source": [
    "!pip install eli5==0.13.0\n",
    "\n",
    "# 한글 폰트 사용을 위한 라이브러리입니다.\n",
    "!apt-get install -y fonts-nanum"
   ]
  },
  {
   "cell_type": "code",
   "execution_count": 77,
   "metadata": {},
   "outputs": [],
   "source": [
    "# visualization\n",
    "import matplotlib.pyplot as plt\n",
    "import matplotlib.font_manager as fm\n",
    "fe = fm.FontEntry(\n",
    "    fname=r'/usr/share/fonts/truetype/nanum/NanumGothic.ttf', # ttf 파일이 저장되어 있는 경로\n",
    "    name='NanumBarunGothic')                        # 이 폰트의 원하는 이름 설정\n",
    "fm.fontManager.ttflist.insert(0, fe)              # Matplotlib에 폰트 추가\n",
    "plt.rcParams.update({'font.size': 10, 'font.family': 'NanumBarunGothic'}) # 폰트 설정\n",
    "plt.rc('font', family='NanumBarunGothic')\n",
    "import seaborn as sns\n",
    "\n",
    "# utils\n",
    "import pandas as pd\n",
    "import numpy as np\n",
    "from tqdm import tqdm\n",
    "import pickle\n",
    "import warnings;warnings.filterwarnings('ignore')\n",
    "\n",
    "# Model\n",
    "from sklearn.preprocessing import LabelEncoder\n",
    "from sklearn.model_selection import train_test_split\n",
    "from sklearn.metrics import mean_squared_error\n",
    "from sklearn.ensemble import RandomForestRegressor\n",
    "from sklearn import metrics\n",
    "\n",
    "import eli5\n",
    "from eli5.sklearn import PermutationImportance"
   ]
  },
  {
   "cell_type": "code",
   "execution_count": 78,
   "metadata": {},
   "outputs": [],
   "source": [
    "train_path = '/home/train.csv'\n",
    "test_path  = '/home/test.csv'\n",
    "dt = pd.read_csv(train_path)\n",
    "dt_test = pd.read_csv(test_path)"
   ]
  },
  {
   "cell_type": "code",
   "execution_count": 79,
   "metadata": {},
   "outputs": [
    {
     "name": "stdout",
     "output_type": "stream",
     "text": [
      "Train data shape :  (1118822, 52) Test data shape :  (9272, 51)\n"
     ]
    }
   ],
   "source": [
    "# data, data_test shape\n",
    "print('Train data shape : ', dt.shape, 'Test data shape : ', dt_test.shape) # train : target O, test : target X"
   ]
  },
  {
   "cell_type": "code",
   "execution_count": 80,
   "metadata": {},
   "outputs": [],
   "source": [
    "# train/test 구분을 위한 New Column - 'is_test'\n",
    "dt['is_test'] = 0\n",
    "dt_test['is_test'] = 1\n",
    "concat = pd.concat([dt, dt_test]) # train + test "
   ]
  },
  {
   "cell_type": "code",
   "execution_count": 81,
   "metadata": {},
   "outputs": [
    {
     "name": "stdout",
     "output_type": "stream",
     "text": [
      "각 열의 결측치 수 (필터링된 데이터프레임):\n",
      " 시군구           0\n",
      "번지          227\n",
      "본번           75\n",
      "부번           75\n",
      "아파트명       2136\n",
      "전용면적(㎡)       0\n",
      "계약년월          0\n",
      "계약일           0\n",
      "층             0\n",
      "건축년도          0\n",
      "도로명           0\n",
      "거래유형          0\n",
      "중개사소재지        0\n",
      "target     9272\n",
      "is_test       0\n",
      "dtype: int64\n"
     ]
    }
   ],
   "source": [
    "# 주요 칼럼 리스트\n",
    "### 등기신청일자 \n",
    "important_columns = [\n",
    "    '시군구', '번지', '본번', '부번', '아파트명', '전용면적(㎡)',\n",
    "    '계약년월', '계약일', '층', '건축년도', '도로명',\n",
    "    '거래유형', '중개사소재지', 'target','is_test'\n",
    "]\n",
    "\n",
    "# 주요 칼럼만 남긴 데이터프레임\n",
    "filtered_concat = concat[important_columns]\n",
    "\n",
    "# 각 열의 결측치 수 확인\n",
    "missing_counts_filtered = filtered_concat.isnull().sum()\n",
    "\n",
    "print(\"각 열의 결측치 수 (필터링된 데이터프레임):\\n\", missing_counts_filtered)"
   ]
  },
  {
   "cell_type": "code",
   "execution_count": 82,
   "metadata": {},
   "outputs": [],
   "source": [
    "# '힐스테이트 서초 젠트리스' 아파트명의 '본번', '부번' 채우기\n",
    "# 본번, 부번 null 값\n",
    "filtered_concat.loc[(filtered_concat['본번'].isna()) & (filtered_concat['아파트명'] == '힐스테이트 서초 젠트리스'), '본번'] = 10\n",
    "filtered_concat.loc[(filtered_concat['부번'].isna()) & (filtered_concat['아파트명'] == '힐스테이트 서초 젠트리스'), '부번'] = 12\n",
    "\n",
    "# '서초포레스타2단지' 아파트명의 '본번' 채우기, '부번' 없음 \n",
    "# 본번 0 값\n",
    "filtered_concat.loc[(filtered_concat['본번'] == 0) & (filtered_concat['아파트명'] == '서초포레스타2단지'), '본번'] = 45"
   ]
  },
  {
   "cell_type": "code",
   "execution_count": 83,
   "metadata": {},
   "outputs": [],
   "source": [
    "# '서초포레스타2단지' 아파트명의 '번지' 채우기\n",
    "filtered_concat.loc[(filtered_concat['번지'].isna()) & (filtered_concat['아파트명'] == '서초포레스타2단지'), '번지'] = 384\n",
    "\n",
    "# '힐스테이트 서초 젠트리스' 아파트명의 '번지' 값을 557로 채워넣기\n",
    "filtered_concat.loc[(filtered_concat['번지'].isna()) & (filtered_concat['아파트명'] == '힐스테이트 서초 젠트리스'), '번지'] = 557"
   ]
  },
  {
   "cell_type": "code",
   "execution_count": 84,
   "metadata": {},
   "outputs": [
    {
     "data": {
      "text/plain": [
       "시군구           0\n",
       "번지            0\n",
       "본번            0\n",
       "부번            0\n",
       "아파트명       2136\n",
       "전용면적(㎡)       0\n",
       "계약년월          0\n",
       "계약일           0\n",
       "층             0\n",
       "건축년도          0\n",
       "도로명           0\n",
       "거래유형          0\n",
       "중개사소재지        0\n",
       "target     9272\n",
       "is_test       0\n",
       "dtype: int64"
      ]
     },
     "execution_count": 84,
     "metadata": {},
     "output_type": "execute_result"
    }
   ],
   "source": [
    "filtered_concat.isnull().sum()"
   ]
  },
  {
   "cell_type": "code",
   "execution_count": 85,
   "metadata": {},
   "outputs": [],
   "source": [
    "# 시군구, 년월 등 분할할 수 있는 변수들은 세부사항 고려를 용이하게 하기 위해 모두 분할해 주겠습니다.\n",
    "filtered_concat['구'] = filtered_concat['시군구'].map(lambda x : x.split()[1])\n",
    "filtered_concat['동'] = filtered_concat['시군구'].map(lambda x : x.split()[2])\n",
    "del filtered_concat['시군구']\n",
    "\n",
    "filtered_concat['계약년'] = filtered_concat['계약년월'].astype('str').map(lambda x : x[:4])\n",
    "filtered_concat['계약월'] = filtered_concat['계약년월'].astype('str').map(lambda x : x[4:])\n",
    "del filtered_concat['계약년월']"
   ]
  },
  {
   "cell_type": "code",
   "execution_count": 86,
   "metadata": {},
   "outputs": [
    {
     "data": {
      "text/plain": [
       "번지            0\n",
       "본번            0\n",
       "부번            0\n",
       "아파트명       2136\n",
       "전용면적(㎡)       0\n",
       "계약일           0\n",
       "층             0\n",
       "건축년도          0\n",
       "도로명           0\n",
       "거래유형          0\n",
       "중개사소재지        0\n",
       "target     9272\n",
       "is_test       0\n",
       "구             0\n",
       "동             0\n",
       "계약년           0\n",
       "계약월           0\n",
       "dtype: int64"
      ]
     },
     "execution_count": 86,
     "metadata": {},
     "output_type": "execute_result"
    }
   ],
   "source": [
    "filtered_concat.isnull().sum()"
   ]
  },
  {
   "cell_type": "code",
   "execution_count": 87,
   "metadata": {},
   "outputs": [],
   "source": [
    "# 본번, 부번의 경우 float로 되어있지만 범주형 변수의 의미를 가지므로 object(string) 형태로 바꾸어주고 아래 작업을 진행하겠습니다.\n",
    "filtered_concat['본번'] = filtered_concat['본번'].astype('str')\n",
    "filtered_concat['부번'] = filtered_concat['부번'].astype('str')"
   ]
  },
  {
   "cell_type": "code",
   "execution_count": 88,
   "metadata": {},
   "outputs": [
    {
     "name": "stdout",
     "output_type": "stream",
     "text": [
      "연속형 변수: ['전용면적(㎡)', '계약일', '층', '건축년도', 'target', 'is_test']\n",
      "범주형 변수: ['번지', '본번', '부번', '아파트명', '도로명', '거래유형', '중개사소재지', '구', '동', '계약년', '계약월']\n"
     ]
    }
   ],
   "source": [
    "# 먼저, 연속형 변수와 범주형 변수를 위 info에 따라 분리해주겠습니다.\n",
    "continuous_columns = []\n",
    "categorical_columns = []\n",
    "\n",
    "for column in filtered_concat.columns:\n",
    "    if pd.api.types.is_numeric_dtype(filtered_concat[column]):\n",
    "        continuous_columns.append(column)\n",
    "    else:\n",
    "        categorical_columns.append(column)\n",
    "\n",
    "print(\"연속형 변수:\", continuous_columns)\n",
    "print(\"범주형 변수:\", categorical_columns)"
   ]
  },
  {
   "cell_type": "code",
   "execution_count": 89,
   "metadata": {},
   "outputs": [
    {
     "data": {
      "text/html": [
       "<div>\n",
       "<style scoped>\n",
       "    .dataframe tbody tr th:only-of-type {\n",
       "        vertical-align: middle;\n",
       "    }\n",
       "\n",
       "    .dataframe tbody tr th {\n",
       "        vertical-align: top;\n",
       "    }\n",
       "\n",
       "    .dataframe thead th {\n",
       "        text-align: right;\n",
       "    }\n",
       "</style>\n",
       "<table border=\"1\" class=\"dataframe\">\n",
       "  <thead>\n",
       "    <tr style=\"text-align: right;\">\n",
       "      <th></th>\n",
       "      <th>번지</th>\n",
       "      <th>본번</th>\n",
       "      <th>부번</th>\n",
       "      <th>아파트명</th>\n",
       "      <th>전용면적(㎡)</th>\n",
       "      <th>계약일</th>\n",
       "      <th>층</th>\n",
       "      <th>건축년도</th>\n",
       "      <th>도로명</th>\n",
       "      <th>거래유형</th>\n",
       "      <th>중개사소재지</th>\n",
       "      <th>target</th>\n",
       "      <th>is_test</th>\n",
       "      <th>구</th>\n",
       "      <th>동</th>\n",
       "      <th>계약년</th>\n",
       "      <th>계약월</th>\n",
       "    </tr>\n",
       "  </thead>\n",
       "  <tbody>\n",
       "    <tr>\n",
       "      <th>0</th>\n",
       "      <td>658-1</td>\n",
       "      <td>658.0</td>\n",
       "      <td>1.0</td>\n",
       "      <td>개포6차우성</td>\n",
       "      <td>79.97</td>\n",
       "      <td>8</td>\n",
       "      <td>3</td>\n",
       "      <td>1987</td>\n",
       "      <td>언주로 3</td>\n",
       "      <td>-</td>\n",
       "      <td>-</td>\n",
       "      <td>124000.0</td>\n",
       "      <td>0</td>\n",
       "      <td>강남구</td>\n",
       "      <td>개포동</td>\n",
       "      <td>2017</td>\n",
       "      <td>12</td>\n",
       "    </tr>\n",
       "    <tr>\n",
       "      <th>1</th>\n",
       "      <td>658-1</td>\n",
       "      <td>658.0</td>\n",
       "      <td>1.0</td>\n",
       "      <td>개포6차우성</td>\n",
       "      <td>79.97</td>\n",
       "      <td>22</td>\n",
       "      <td>4</td>\n",
       "      <td>1987</td>\n",
       "      <td>언주로 3</td>\n",
       "      <td>-</td>\n",
       "      <td>-</td>\n",
       "      <td>123500.0</td>\n",
       "      <td>0</td>\n",
       "      <td>강남구</td>\n",
       "      <td>개포동</td>\n",
       "      <td>2017</td>\n",
       "      <td>12</td>\n",
       "    </tr>\n",
       "    <tr>\n",
       "      <th>2</th>\n",
       "      <td>658-1</td>\n",
       "      <td>658.0</td>\n",
       "      <td>1.0</td>\n",
       "      <td>개포6차우성</td>\n",
       "      <td>54.98</td>\n",
       "      <td>28</td>\n",
       "      <td>5</td>\n",
       "      <td>1987</td>\n",
       "      <td>언주로 3</td>\n",
       "      <td>-</td>\n",
       "      <td>-</td>\n",
       "      <td>91500.0</td>\n",
       "      <td>0</td>\n",
       "      <td>강남구</td>\n",
       "      <td>개포동</td>\n",
       "      <td>2017</td>\n",
       "      <td>12</td>\n",
       "    </tr>\n",
       "    <tr>\n",
       "      <th>3</th>\n",
       "      <td>658-1</td>\n",
       "      <td>658.0</td>\n",
       "      <td>1.0</td>\n",
       "      <td>개포6차우성</td>\n",
       "      <td>79.97</td>\n",
       "      <td>3</td>\n",
       "      <td>4</td>\n",
       "      <td>1987</td>\n",
       "      <td>언주로 3</td>\n",
       "      <td>-</td>\n",
       "      <td>-</td>\n",
       "      <td>130000.0</td>\n",
       "      <td>0</td>\n",
       "      <td>강남구</td>\n",
       "      <td>개포동</td>\n",
       "      <td>2018</td>\n",
       "      <td>01</td>\n",
       "    </tr>\n",
       "    <tr>\n",
       "      <th>4</th>\n",
       "      <td>658-1</td>\n",
       "      <td>658.0</td>\n",
       "      <td>1.0</td>\n",
       "      <td>개포6차우성</td>\n",
       "      <td>79.97</td>\n",
       "      <td>8</td>\n",
       "      <td>2</td>\n",
       "      <td>1987</td>\n",
       "      <td>언주로 3</td>\n",
       "      <td>-</td>\n",
       "      <td>-</td>\n",
       "      <td>117000.0</td>\n",
       "      <td>0</td>\n",
       "      <td>강남구</td>\n",
       "      <td>개포동</td>\n",
       "      <td>2018</td>\n",
       "      <td>01</td>\n",
       "    </tr>\n",
       "    <tr>\n",
       "      <th>...</th>\n",
       "      <td>...</td>\n",
       "      <td>...</td>\n",
       "      <td>...</td>\n",
       "      <td>...</td>\n",
       "      <td>...</td>\n",
       "      <td>...</td>\n",
       "      <td>...</td>\n",
       "      <td>...</td>\n",
       "      <td>...</td>\n",
       "      <td>...</td>\n",
       "      <td>...</td>\n",
       "      <td>...</td>\n",
       "      <td>...</td>\n",
       "      <td>...</td>\n",
       "      <td>...</td>\n",
       "      <td>...</td>\n",
       "      <td>...</td>\n",
       "    </tr>\n",
       "    <tr>\n",
       "      <th>9267</th>\n",
       "      <td>816</td>\n",
       "      <td>816.0</td>\n",
       "      <td>0.0</td>\n",
       "      <td>신내우디안1단지</td>\n",
       "      <td>84.65</td>\n",
       "      <td>19</td>\n",
       "      <td>13</td>\n",
       "      <td>2014</td>\n",
       "      <td>신내역로1길 85</td>\n",
       "      <td>직거래</td>\n",
       "      <td>-</td>\n",
       "      <td>NaN</td>\n",
       "      <td>1</td>\n",
       "      <td>중랑구</td>\n",
       "      <td>신내동</td>\n",
       "      <td>2023</td>\n",
       "      <td>07</td>\n",
       "    </tr>\n",
       "    <tr>\n",
       "      <th>9268</th>\n",
       "      <td>816</td>\n",
       "      <td>816.0</td>\n",
       "      <td>0.0</td>\n",
       "      <td>신내우디안1단지</td>\n",
       "      <td>84.62</td>\n",
       "      <td>25</td>\n",
       "      <td>12</td>\n",
       "      <td>2014</td>\n",
       "      <td>신내역로1길 85</td>\n",
       "      <td>중개거래</td>\n",
       "      <td>서울 중랑구</td>\n",
       "      <td>NaN</td>\n",
       "      <td>1</td>\n",
       "      <td>중랑구</td>\n",
       "      <td>신내동</td>\n",
       "      <td>2023</td>\n",
       "      <td>07</td>\n",
       "    </tr>\n",
       "    <tr>\n",
       "      <th>9269</th>\n",
       "      <td>816</td>\n",
       "      <td>816.0</td>\n",
       "      <td>0.0</td>\n",
       "      <td>신내우디안1단지</td>\n",
       "      <td>101.65</td>\n",
       "      <td>27</td>\n",
       "      <td>12</td>\n",
       "      <td>2014</td>\n",
       "      <td>신내역로1길 85</td>\n",
       "      <td>중개거래</td>\n",
       "      <td>서울 중랑구</td>\n",
       "      <td>NaN</td>\n",
       "      <td>1</td>\n",
       "      <td>중랑구</td>\n",
       "      <td>신내동</td>\n",
       "      <td>2023</td>\n",
       "      <td>08</td>\n",
       "    </tr>\n",
       "    <tr>\n",
       "      <th>9270</th>\n",
       "      <td>816</td>\n",
       "      <td>816.0</td>\n",
       "      <td>0.0</td>\n",
       "      <td>신내우디안1단지</td>\n",
       "      <td>84.94</td>\n",
       "      <td>2</td>\n",
       "      <td>18</td>\n",
       "      <td>2014</td>\n",
       "      <td>신내역로1길 85</td>\n",
       "      <td>중개거래</td>\n",
       "      <td>서울 중랑구</td>\n",
       "      <td>NaN</td>\n",
       "      <td>1</td>\n",
       "      <td>중랑구</td>\n",
       "      <td>신내동</td>\n",
       "      <td>2023</td>\n",
       "      <td>09</td>\n",
       "    </tr>\n",
       "    <tr>\n",
       "      <th>9271</th>\n",
       "      <td>816</td>\n",
       "      <td>816.0</td>\n",
       "      <td>0.0</td>\n",
       "      <td>신내우디안1단지</td>\n",
       "      <td>84.65</td>\n",
       "      <td>4</td>\n",
       "      <td>13</td>\n",
       "      <td>2014</td>\n",
       "      <td>신내역로1길 85</td>\n",
       "      <td>직거래</td>\n",
       "      <td>-</td>\n",
       "      <td>NaN</td>\n",
       "      <td>1</td>\n",
       "      <td>중랑구</td>\n",
       "      <td>신내동</td>\n",
       "      <td>2023</td>\n",
       "      <td>09</td>\n",
       "    </tr>\n",
       "  </tbody>\n",
       "</table>\n",
       "<p>1128094 rows × 17 columns</p>\n",
       "</div>"
      ],
      "text/plain": [
       "         번지     본번   부번      아파트명  전용면적(㎡)  계약일   층  건축년도        도로명  거래유형  \\\n",
       "0     658-1  658.0  1.0    개포6차우성    79.97    8   3  1987      언주로 3     -   \n",
       "1     658-1  658.0  1.0    개포6차우성    79.97   22   4  1987      언주로 3     -   \n",
       "2     658-1  658.0  1.0    개포6차우성    54.98   28   5  1987      언주로 3     -   \n",
       "3     658-1  658.0  1.0    개포6차우성    79.97    3   4  1987      언주로 3     -   \n",
       "4     658-1  658.0  1.0    개포6차우성    79.97    8   2  1987      언주로 3     -   \n",
       "...     ...    ...  ...       ...      ...  ...  ..   ...        ...   ...   \n",
       "9267    816  816.0  0.0  신내우디안1단지    84.65   19  13  2014  신내역로1길 85   직거래   \n",
       "9268    816  816.0  0.0  신내우디안1단지    84.62   25  12  2014  신내역로1길 85  중개거래   \n",
       "9269    816  816.0  0.0  신내우디안1단지   101.65   27  12  2014  신내역로1길 85  중개거래   \n",
       "9270    816  816.0  0.0  신내우디안1단지    84.94    2  18  2014  신내역로1길 85  중개거래   \n",
       "9271    816  816.0  0.0  신내우디안1단지    84.65    4  13  2014  신내역로1길 85   직거래   \n",
       "\n",
       "      중개사소재지    target  is_test    구    동   계약년 계약월  \n",
       "0          -  124000.0        0  강남구  개포동  2017  12  \n",
       "1          -  123500.0        0  강남구  개포동  2017  12  \n",
       "2          -   91500.0        0  강남구  개포동  2017  12  \n",
       "3          -  130000.0        0  강남구  개포동  2018  01  \n",
       "4          -  117000.0        0  강남구  개포동  2018  01  \n",
       "...      ...       ...      ...  ...  ...   ...  ..  \n",
       "9267       -       NaN        1  중랑구  신내동  2023  07  \n",
       "9268  서울 중랑구       NaN        1  중랑구  신내동  2023  07  \n",
       "9269  서울 중랑구       NaN        1  중랑구  신내동  2023  08  \n",
       "9270  서울 중랑구       NaN        1  중랑구  신내동  2023  09  \n",
       "9271       -       NaN        1  중랑구  신내동  2023  09  \n",
       "\n",
       "[1128094 rows x 17 columns]"
      ]
     },
     "execution_count": 89,
     "metadata": {},
     "output_type": "execute_result"
    }
   ],
   "source": [
    "filtered_concat"
   ]
  },
  {
   "cell_type": "code",
   "execution_count": 90,
   "metadata": {},
   "outputs": [],
   "source": [
    "# 범주형 변수에 대한 보간\n",
    "filtered_concat[categorical_columns] = filtered_concat[categorical_columns].fillna('NULL')\n",
    "\n",
    "# 연속형 변수에 대한 보간 (선형 보간)\n",
    "filtered_concat[continuous_columns] = filtered_concat[continuous_columns].interpolate(method='linear', axis=0)"
   ]
  },
  {
   "cell_type": "code",
   "execution_count": 91,
   "metadata": {},
   "outputs": [
    {
     "data": {
      "text/plain": [
       "번지         0\n",
       "본번         0\n",
       "부번         0\n",
       "아파트명       0\n",
       "전용면적(㎡)    0\n",
       "계약일        0\n",
       "층          0\n",
       "건축년도       0\n",
       "도로명        0\n",
       "거래유형       0\n",
       "중개사소재지     0\n",
       "target     0\n",
       "is_test    0\n",
       "구          0\n",
       "동          0\n",
       "계약년        0\n",
       "계약월        0\n",
       "dtype: int64"
      ]
     },
     "execution_count": 91,
     "metadata": {},
     "output_type": "execute_result"
    }
   ],
   "source": [
    "filtered_concat.isnull().sum()"
   ]
  },
  {
   "cell_type": "code",
   "execution_count": 92,
   "metadata": {},
   "outputs": [
    {
     "data": {
      "text/plain": [
       "Index(['번지', '본번', '부번', '아파트명', '전용면적(㎡)', '계약일', '층', '건축년도', '도로명', '거래유형',\n",
       "       '중개사소재지', 'target', 'is_test', '구', '동', '계약년', '계약월'],\n",
       "      dtype='object')"
      ]
     },
     "execution_count": 92,
     "metadata": {},
     "output_type": "execute_result"
    }
   ],
   "source": [
    "filtered_concat.columns"
   ]
  },
  {
   "cell_type": "code",
   "execution_count": 93,
   "metadata": {},
   "outputs": [
    {
     "name": "stdout",
     "output_type": "stream",
     "text": [
      "(1118822, 16) (9272, 16)\n"
     ]
    }
   ],
   "source": [
    "# 이제 다시 train과 test dataset을 분할해줍니다. 위에서 제작해 놓았던 is_test 칼럼을 이용합니다.\n",
    "dt_train = filtered_concat.query('is_test==0')\n",
    "dt_test = filtered_concat.query('is_test==1')\n",
    "\n",
    "# 이제 is_test 칼럼은 drop해줍니다.\n",
    "dt_train.drop(['is_test'], axis = 1, inplace=True)\n",
    "dt_test.drop(['is_test'], axis = 1, inplace=True)\n",
    "print(dt_train.shape, dt_test.shape)"
   ]
  },
  {
   "cell_type": "code",
   "execution_count": 22,
   "metadata": {},
   "outputs": [],
   "source": [
    "# dt_test의 target은 일단 0으로 임의로 채워주도록 하겠습니다.\n",
    "dt_test['target'] = 0"
   ]
  },
  {
   "cell_type": "code",
   "execution_count": 23,
   "metadata": {},
   "outputs": [
    {
     "name": "stdout",
     "output_type": "stream",
     "text": [
      "연속형 변수: ['전용면적(㎡)', '계약일', '층', '건축년도', 'target']\n",
      "범주형 변수: ['번지', '본번', '부번', '아파트명', '도로명', '거래유형', '중개사소재지', '구', '동', '계약년', '계약월']\n"
     ]
    },
    {
     "name": "stderr",
     "output_type": "stream",
     "text": [
      "100%|██████████| 11/11 [00:02<00:00,  3.72it/s]"
     ]
    },
    {
     "name": "stdout",
     "output_type": "stream",
     "text": [
      "           번지    본번   부번  아파트명  전용면적(㎡)  계약일   층  건축년도   도로명  거래유형  중개사소재지  \\\n",
      "0        4732  1148    1   328    79.97    8   3  1987  6176     0       0   \n",
      "1        4732  1148    1   328    79.97   22   4  1987  6176     0       0   \n",
      "2        4732  1148    1   328    54.98   28   5  1987  6176     0       0   \n",
      "3        4732  1148    1   328    79.97    3   4  1987  6176     0       0   \n",
      "4        4732  1148    1   328    79.97    8   2  1987  6176     0       0   \n",
      "...       ...   ...  ...   ...      ...  ...  ..   ...   ...   ...     ...   \n",
      "1118817  3082   821    0   215    59.94   12  11  1998  4816     0       0   \n",
      "1118818  3082   821    0   215    59.94   25  10  1998  4816     0       0   \n",
      "1118819  3082   821    0   215    84.83   31  20  1998  4816     0       0   \n",
      "1118820  3082   821    0   215    84.83   15   8  1998  4816     0       0   \n",
      "1118821   404   100  280  2177    52.46   10   5  1981  4783     0       0   \n",
      "\n",
      "           target   구    동  계약년  계약월  \n",
      "0        124000.0   0    8   10   11  \n",
      "1        123500.0   0    8   10   11  \n",
      "2         91500.0   0    8   10   11  \n",
      "3        130000.0   0    8   11    0  \n",
      "4        117000.0   0    8   11    0  \n",
      "...           ...  ..  ...  ...  ...  \n",
      "1118817   20000.0  21   21    0    6  \n",
      "1118818   20000.0  21   21    0    7  \n",
      "1118819   28000.0  21   21    0    7  \n",
      "1118820   29000.0  21   21    0    8  \n",
      "1118821   13250.0  23  102    0    0  \n",
      "\n",
      "[1118822 rows x 16 columns]\n",
      "        번지    본번  부번  아파트명   전용면적(㎡)  계약일   층  건축년도   도로명  거래유형  중개사소재지  \\\n",
      "0     4732  1148   1   328   79.9700   26   5  1987  6176     2       0   \n",
      "1     4707  1141   1   329  108.2017   15  10  2021   469     1     296   \n",
      "2     4708  1142   0   333  161.0000   28  15  1984   467     1     296   \n",
      "3     4708  1142   0   333  133.4600   10  14  1984   467     1     296   \n",
      "4     4708  1142   0   333  104.4300   18   6  1984   467     1     296   \n",
      "...    ...   ...  ..   ...       ...  ...  ..   ...   ...   ...     ...   \n",
      "9267  5795  1323   0  3670   84.6500   19  13  2014  5555     2       0   \n",
      "9268  5795  1323   0  3670   84.6200   25  12  2014  5555     1     631   \n",
      "9269  5795  1323   0  3670  101.6500   27  12  2014  5555     1     631   \n",
      "9270  5795  1323   0  3670   84.9400    2  18  2014  5555     1     631   \n",
      "9271  5795  1323   0  3670   84.6500    4  13  2014  5555     2       0   \n",
      "\n",
      "      target   구    동  계약년  계약월  \n",
      "0          0   0    8   16    6  \n",
      "1          0   0    8   16    7  \n",
      "2          0   0    8   16    6  \n",
      "3          0   0    8   16    7  \n",
      "4          0   0    8   16    7  \n",
      "...      ...  ..  ...  ...  ...  \n",
      "9267       0  24  174   16    6  \n",
      "9268       0  24  174   16    6  \n",
      "9269       0  24  174   16    7  \n",
      "9270       0  24  174   16    8  \n",
      "9271       0  24  174   16    8  \n",
      "\n",
      "[9272 rows x 16 columns]\n"
     ]
    },
    {
     "name": "stderr",
     "output_type": "stream",
     "text": [
      "\n"
     ]
    }
   ],
   "source": [
    "# 연속형 변수와 범주형 변수 분리\n",
    "continuous_columns_v2 = []\n",
    "categorical_columns_v2 = []\n",
    "\n",
    "for column in dt_train.columns:\n",
    "    if pd.api.types.is_numeric_dtype(dt_train[column]):\n",
    "        continuous_columns_v2.append(column)\n",
    "    else:\n",
    "        categorical_columns_v2.append(column)\n",
    "\n",
    "print(\"연속형 변수:\", continuous_columns_v2)\n",
    "print(\"범주형 변수:\", categorical_columns_v2)\n",
    "\n",
    "# 각 변수에 대한 LabelEncoder를 저장할 딕셔너리\n",
    "label_encoders = {}\n",
    "\n",
    "# 범주형 변수에 대해 레이블 인코딩 수행\n",
    "for col in tqdm(categorical_columns_v2):\n",
    "    lbl = LabelEncoder()\n",
    "\n",
    "    # 데이터 타입을 문자열로 변환\n",
    "    dt_train[col] = dt_train[col].astype(str)\n",
    "    dt_test[col] = dt_test[col].astype(str)\n",
    "\n",
    "    # Label-Encoding을 fit\n",
    "    lbl.fit(dt_train[col])\n",
    "    dt_train[col] = lbl.transform(dt_train[col])\n",
    "    label_encoders[col] = lbl  # 나중에 후처리를 위해 레이블인코더를 저장해주겠습니다.\n",
    "\n",
    "    # Test 데이터에만 존재하는 새로 출현한 데이터를 신규 클래스로 추가해줍니다.\n",
    "    for label in np.unique(dt_test[col]):\n",
    "        if label not in lbl.classes_:  # unseen label 데이터인 경우\n",
    "            lbl.classes_ = np.append(lbl.classes_, label)  # 미처리 시 ValueError발생하니 주의하세요!\n",
    "\n",
    "    dt_test[col] = lbl.transform(dt_test[col])\n",
    "\n",
    "print(dt_train)\n",
    "print(dt_test)"
   ]
  },
  {
   "cell_type": "code",
   "execution_count": 24,
   "metadata": {},
   "outputs": [],
   "source": [
    "assert dt_train.shape[1] == dt_test.shape[1] "
   ]
  },
  {
   "cell_type": "code",
   "execution_count": 25,
   "metadata": {},
   "outputs": [],
   "source": [
    "# Target과 독립변수들을 분리해줍니다.\n",
    "y_train = dt_train['target']\n",
    "X_train = dt_train.drop(['target'], axis=1)\n",
    "\n",
    "# Hold out split을 사용해 학습 데이터와 검증 데이터를 8:2 비율로 나누겠습니다.\n",
    "X_train, X_val, y_train, y_val = train_test_split(X_train, y_train, test_size=0.2, random_state=2023)"
   ]
  },
  {
   "cell_type": "code",
   "execution_count": 26,
   "metadata": {},
   "outputs": [],
   "source": [
    "# RandomForestRegressor를 이용해 회귀 모델을 적합시키겠습니다.\n",
    "model = RandomForestRegressor(n_estimators=38, criterion='squared_error', random_state=1, n_jobs=-1)\n",
    "model.fit(X_train, y_train)\n",
    "pred = model.predict(X_val)"
   ]
  },
  {
   "cell_type": "code",
   "execution_count": 565,
   "metadata": {},
   "outputs": [
    {
     "name": "stdout",
     "output_type": "stream",
     "text": [
      "RMSE test: 6758.76420148164\n"
     ]
    }
   ],
   "source": [
    "# 회귀 관련 metric을 통해 train/valid의 모델 적합 결과를 관찰합니다.\n",
    "print(f'RMSE test: {np.sqrt(metrics.mean_squared_error(y_val, pred))}')"
   ]
  },
  {
   "cell_type": "code",
   "execution_count": 27,
   "metadata": {},
   "outputs": [
    {
     "name": "stdout",
     "output_type": "stream",
     "text": [
      "RMSE test: 6777.108852965295\n"
     ]
    }
   ],
   "source": [
    "# 회귀 관련 metric을 통해 train/valid의 모델 적합 결과를 관찰합니다.\n",
    "## 번지/부번/본번 결측치 채운 결과\n",
    "print(f'RMSE test: {np.sqrt(metrics.mean_squared_error(y_val, pred))}')"
   ]
  },
  {
   "cell_type": "code",
   "execution_count": 518,
   "metadata": {},
   "outputs": [
    {
     "data": {
      "image/png": "[encoded data removed]",
      "text/plain": [
       "<Figure size 1000x800 with 1 Axes>"
      ]
     },
     "metadata": {},
     "output_type": "display_data"
    }
   ],
   "source": [
    "# 위 feature importance를 시각화해봅니다.\n",
    "importances = pd.Series(model.feature_importances_, index=list(X_train.columns))\n",
    "importances = importances.sort_values(ascending=False)\n",
    "\n",
    "plt.figure(figsize=(10,8))\n",
    "plt.title(\"Feature Importances\")\n",
    "sns.barplot(x=importances, y=importances.index)\n",
    "plt.show()"
   ]
  },
  {
   "cell_type": "code",
   "execution_count": 519,
   "metadata": {},
   "outputs": [],
   "source": [
    "# 학습된 모델을 저장합니다. Pickle 라이브러리를 이용하겠습니다.\n",
    "with open('base_model1.pkl', 'wb') as f:\n",
    "    pickle.dump(model, f)"
   ]
  },
  {
   "cell_type": "code",
   "execution_count": 520,
   "metadata": {},
   "outputs": [],
   "source": [
    "# 저장된 모델을 불러옵니다.\n",
    "with open('base_model1.pkl', 'rb') as f:\n",
    "    model = pickle.load(f)"
   ]
  },
  {
   "cell_type": "code",
   "execution_count": 521,
   "metadata": {},
   "outputs": [
    {
     "name": "stdout",
     "output_type": "stream",
     "text": [
      "CPU times: user 96.6 ms, sys: 12.1 ms, total: 109 ms\n",
      "Wall time: 28 ms\n"
     ]
    }
   ],
   "source": [
    "%%time\n",
    "X_test = dt_test.drop(['target'], axis=1)\n",
    "\n",
    "# Test dataset에 대한 inference를 진행합니다.\n",
    "real_test_pred = model.predict(X_test)"
   ]
  },
  {
   "cell_type": "code",
   "execution_count": 522,
   "metadata": {},
   "outputs": [
    {
     "data": {
      "text/plain": [
       "array([205345.86842105, 317345.26315789, 345000.        , ...,\n",
       "        77076.31578947,  69618.42105263,  69975.65789474])"
      ]
     },
     "execution_count": 522,
     "metadata": {},
     "output_type": "execute_result"
    }
   ],
   "source": [
    "real_test_pred  "
   ]
  },
  {
   "cell_type": "code",
   "execution_count": 523,
   "metadata": {},
   "outputs": [],
   "source": [
    "# 앞서 예측한 예측값들을 저장합니다.\n",
    "preds_df = pd.DataFrame(real_test_pred.astype(int), columns=[\"target\"])\n",
    "preds_df.to_csv('/home/output3.csv', index=False)"
   ]
  }
 ],
 "metadata": {
  "kernelspec": {
   "display_name": "base",
   "language": "python",
   "name": "python3"
  },
  "language_info": {
   "codemirror_mode": {
    "name": "ipython",
    "version": 3
   },
   "file_extension": ".py",
   "mimetype": "text/x-python",
   "name": "python",
   "nbconvert_exporter": "python",
   "pygments_lexer": "ipython3",
   "version": "3.10.13"
  }
 },
 "nbformat": 4,
 "nbformat_minor": 2
}
